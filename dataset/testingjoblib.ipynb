{
 "cells": [
  {
   "cell_type": "code",
   "execution_count": 5,
   "id": "dc075ef3-39f5-4847-8703-f0b770bec712",
   "metadata": {},
   "outputs": [],
   "source": [
    "import joblib\n",
    "import pandas as pd"
   ]
  },
  {
   "cell_type": "code",
   "execution_count": 3,
   "id": "395e9654-7cae-4c43-9465-17db0899dbdd",
   "metadata": {},
   "outputs": [
    {
     "name": "stdout",
     "output_type": "stream",
     "text": [
      "Model loaded successfully.\n"
     ]
    }
   ],
   "source": [
    "# Load the model from the file and make predictions\n",
    "loaded_model = joblib.load(\"bigmart_model.joblib\")\n",
    "print(\"Model loaded successfully.\")"
   ]
  },
  {
   "cell_type": "code",
   "execution_count": 11,
   "id": "fa0d5135-d51e-4e0a-a615-a7337d90fbbe",
   "metadata": {},
   "outputs": [],
   "source": [
    "sample_input = pd.DataFrame([[1256, 100, 1, 1, 2,0, 0]], \n",
    "                            columns=['Item_Type', 'Item_MRP', 'Outlet_Identifier', \n",
    "                                     'Outlet_Location_Type', 'Outlet_Type', \n",
    "                                     'Item_Fat_Content', 'Outlet_Size'])"
   ]
  },
  {
   "cell_type": "code",
   "execution_count": 12,
   "id": "6f91bfc1-f6ce-43a4-a3d9-fd5ff1dd2b00",
   "metadata": {},
   "outputs": [
    {
     "name": "stdout",
     "output_type": "stream",
     "text": [
      "Predicted sales for the sample input: 1252.8120609473808\n"
     ]
    }
   ],
   "source": [
    "sample_prediction = 2181 + loaded_model.predict(sample_input)\n",
    "print(f\"Predicted sales for the sample input: {sample_prediction[0]}\")"
   ]
  },
  {
   "cell_type": "code",
   "execution_count": null,
   "id": "268dc618-b9f8-4134-8c9b-713b079506f3",
   "metadata": {},
   "outputs": [],
   "source": []
  },
  {
   "cell_type": "code",
   "execution_count": null,
   "id": "fcab8244-3105-43e6-bf5d-29f6ff9e4c31",
   "metadata": {},
   "outputs": [],
   "source": []
  }
 ],
 "metadata": {
  "kernelspec": {
   "display_name": "Python 3 (ipykernel)",
   "language": "python",
   "name": "python3"
  },
  "language_info": {
   "codemirror_mode": {
    "name": "ipython",
    "version": 3
   },
   "file_extension": ".py",
   "mimetype": "text/x-python",
   "name": "python",
   "nbconvert_exporter": "python",
   "pygments_lexer": "ipython3",
   "version": "3.12.5"
  }
 },
 "nbformat": 4,
 "nbformat_minor": 5
}
